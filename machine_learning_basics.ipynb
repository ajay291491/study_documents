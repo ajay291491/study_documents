{
 "cells": [
  {
   "cell_type": "markdown",
   "id": "bottom-ensemble",
   "metadata": {},
   "source": [
    "  ## Chapter 01 : Understanding Machine Learning Terminologies\n",
    "  "
   ]
  },
  {
   "cell_type": "markdown",
   "id": "listed-miller",
   "metadata": {},
   "source": [
    "#### What is Machine Learning ?\n",
    "\n",
    "A subfield of computer science and artificial intelligence (AI) that focuses on the design of systems that can learn from and make decisions and predictions based on data. Machine learning enables computers to act and make data-driven decisions rather than being explicitly programmed to carry out a certain task. Machine Learning programs are also designed to learn and improve over time when exposed to new data. \n",
    "\n",
    "Machine learning has been at the center of many technological advancements in recent years such as self-driving cars, computer vision and speech recognition systems."
   ]
  },
  {
   "cell_type": "markdown",
   "id": "presidential-projection",
   "metadata": {},
   "source": [
    "### Supervised Learning\n",
    "\n",
    "Where a program is “trained” on a pre-defined dataset. Based off its training data the program can make accurate decisions when given new data. \n",
    "\n",
    "Example: Using a training set of human tagged positive, negative and neutral tweets to train a sentiment analysis classifier"
   ]
  },
  {
   "cell_type": "markdown",
   "id": "russian-designer",
   "metadata": {},
   "source": [
    "###  Un Supervised Learning \n",
    "\n",
    "Where Program given dataset can automatically find pateterns and relationship in that dataset \n",
    "\n",
    "Example : Analyzing a data set of emails which group related email without prior knowledge of the data, this is also known as practicing or clustering"
   ]
  },
  {
   "cell_type": "markdown",
   "id": "black-content",
   "metadata": {},
   "source": [
    "### Classification\n",
    "\n",
    "This is a sub catagory of supervised learning, classification is the process of taking some sort of input and assigning a label to it. CLassification systems are normally used for when predictions are of descrete or yes or no type.\n",
    "\n",
    "Example : Mapping a picture of someone to a male or female"
   ]
  },
  {
   "cell_type": "markdown",
   "id": "piano-dietary",
   "metadata": {},
   "source": [
    "### Regression\n",
    "\n",
    "Regression is a method in machine learning which helps to predict the value of a continous predicting variable (Y) based on one or multiple variables (X).\n",
    "\n",
    "Example : One of the example for regression is predicting house prices bassed on various dependant variables such as size, area, community etc "
   ]
  },
  {
   "cell_type": "markdown",
   "id": "responsible-uruguay",
   "metadata": {},
   "source": [
    "### Decission Tree \n",
    "\n",
    "This is a way of visually representing the decission making process with tree like graph by explaining the tree like process and consiquence.\n",
    "\n",
    "Example : https://aylien.com/blog/10-machine-learning-terms-explained-in-simple-english"
   ]
  },
  {
   "cell_type": "markdown",
   "id": "generic-former",
   "metadata": {},
   "source": [
    "### Deep Learning\n",
    "Deep learning refers to a catagory of machine learning algorithms that often uses artificial nueral networks or a network interconnected model which makes up a model. Nowadays deep learning techniques are very hot and and successful in solving image recognition problems due to their ability to pick up the best features \n",
    "\n",
    "Reference : https://aylien.com/blog/10-machine-learning-terms-explained-in-simple-english "
   ]
  },
  {
   "cell_type": "markdown",
   "id": "mechanical-delight",
   "metadata": {},
   "source": [
    "## Chapter 02 : Model and Cost function"
   ]
  },
  {
   "cell_type": "markdown",
   "id": "waiting-saver",
   "metadata": {},
   "source": [
    "### Notations\n",
    "When you are dealing with machine learning You should know how you represent your data and how will you understand when they represent To start the discussion, below is a sample given "
   ]
  },
  {
   "cell_type": "raw",
   "id": "reasonable-sperm",
   "metadata": {},
   "source": [
    "Input Data  |  Hypothesis |  Output Value \n",
    "--------------------------------------------\n",
    "   1024     | {Algorithm} |     1 MB\n",
    "   2048     | {Algorithm} |     2 MB\n",
    "   4096     | {Algorithm} |     4 MB\n",
    "\n",
    "m    \t: This represents the total number of examples, here its 3\n",
    "x(i) \t: This represents the i'th Input data, lets assume x(2) then the value it represent is 2048\n",
    "y(i)\t: This represents the i'th output value, lets assume y(3) then the value it represent is 4 MB\n",
    "h   \t: This represents the algorithem or function which takes the input data (x) and predict the output value (y)"
   ]
  },
  {
   "cell_type": "markdown",
   "id": "stuck-protest",
   "metadata": {},
   "source": [
    "### Hypothesis \n",
    "Hypothesis is the function that is to be learnt by the learning algorithm by the training progress for making the predictions about the unseen data.\n",
    "\n",
    "For example, for Linear Regression in One Variable or Univariate Linear Regression, the hypothesis, h is given by"
   ]
  },
  {
   "cell_type": "raw",
   "id": "brazilian-corps",
   "metadata": {},
   "source": [
    "hθ(x) = θ0 + θ1x\n",
    "hθ(x) is the hypothesis function, also denoted as h(x) sometimes \n",
    "x  is the independent variable\n",
    "θ0  and θ1  are the parameters of the linear regression that need to be learn"
   ]
  },
  {
   "cell_type": "markdown",
   "id": "diagnostic-refrigerator",
   "metadata": {},
   "source": [
    "Reference : https://machinelearningmedium.com/2017/08/10/model-representation-and-hypothesis/"
   ]
  },
  {
   "cell_type": "code",
   "execution_count": null,
   "id": "awful-appraisal",
   "metadata": {},
   "outputs": [],
   "source": []
  }
 ],
 "metadata": {
  "kernelspec": {
   "display_name": "Python 3",
   "language": "python",
   "name": "python3"
  },
  "language_info": {
   "codemirror_mode": {
    "name": "ipython",
    "version": 3
   },
   "file_extension": ".py",
   "mimetype": "text/x-python",
   "name": "python",
   "nbconvert_exporter": "python",
   "pygments_lexer": "ipython3",
   "version": "3.9.1"
  }
 },
 "nbformat": 4,
 "nbformat_minor": 5
}
